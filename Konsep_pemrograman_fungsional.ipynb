{
  "nbformat": 4,
  "nbformat_minor": 0,
  "metadata": {
    "colab": {
      "provenance": []
    },
    "kernelspec": {
      "name": "python3",
      "display_name": "Python 3"
    },
    "language_info": {
      "name": "python"
    }
  },
  "cells": [
    {
      "cell_type": "markdown",
      "source": [
        "MODUL 1 – Konsep pemrograman fungsional menggunakan bahasa python.\n",
        "\n",
        "1. Ada dua jenis akun, akun user dan akun admin\n",
        "2. Akun admin dapat melakukan input buku yang akan dipinjam\n",
        "3. Akun user dapat melakukan peminjaman buku yang tersedia\n",
        "4. Buku yang sudah dipinjam tidak dapat dipinjam oleh user lain.\n",
        "5. Akun user harus dapat mengembalikan buku.\n"
      ],
      "metadata": {
        "id": "TatCl2khnZQT"
      }
    },
    {
      "cell_type": "code",
      "source": [
        "# ADMIN\n",
        "class Admin:\n",
        "    def input_buku(self, daftar_buku_admin):\n",
        "        judul = input(\"Masukkan judul buku: \")\n",
        "        penulis = input(\"Masukkan nama penulis: \")\n",
        "        tahun_terbit = input(\"Masukkan tahun terbit: \")\n",
        "        buku = {\"judul\": judul, \"penulis\": penulis, \"tahun_terbit\": tahun_terbit}\n",
        "        daftar_buku_admin.append(buku)\n",
        "        print(\"Buku berhasil ditambahkan.\")\n",
        "\n",
        "if __name__ == \"__main__\":\n",
        "    daftar_buku_admin = []\n",
        "    admin = Admin()\n",
        "    while True:\n",
        "        print(\"\\nMenu Admin:\")\n",
        "        print(\"1. Input Buku\")\n",
        "        print(\"2. Keluar\")\n",
        "        pilihan = input(\"Pilih menu: \")\n",
        "\n",
        "        if pilihan == \"1\":\n",
        "            admin.input_buku(daftar_buku_admin)\n",
        "        elif pilihan == \"2\":\n",
        "            print(\"Terima kasih, admin!\")\n",
        "            break\n",
        "        else:\n",
        "            print(\"Pilihan tidak valid.\")\n"
      ],
      "metadata": {
        "id": "f4M621PFkToS"
      },
      "execution_count": null,
      "outputs": []
    },
    {
      "cell_type": "code",
      "source": [
        "# USER\n",
        "class User:\n",
        "    def __init__(self):\n",
        "        self.daftar_buku_dipinjam = []\n",
        "\n",
        "    def pinjam_buku(self, daftar_buku_admin):\n",
        "        if not daftar_buku_admin:\n",
        "            print(\"Tidak ada buku yang tersedia untuk dipinjam.\")\n",
        "            return\n",
        "\n",
        "        print(\"\\nDaftar Buku Tersedia:\")\n",
        "        for idx, buku in enumerate(daftar_buku_admin):\n",
        "            print(f\"{idx + 1}. Judul: {buku['judul']}\")\n",
        "\n",
        "        try:\n",
        "            pilihan_buku = int(input(\"Pilih buku yang ingin Anda pinjam (nomor): \")) - 1\n",
        "\n",
        "            if 0 <= pilihan_buku < len(daftar_buku_admin):\n",
        "                buku_dipinjam = daftar_buku_admin.pop(pilihan_buku)\n",
        "                self.daftar_buku_dipinjam.append(buku_dipinjam)\n",
        "                print(f\"Anda berhasil meminjam buku '{buku_dipinjam['judul']}'\")\n",
        "            else:\n",
        "                print(\"Nomor buku tidak valid.\")\n",
        "        except ValueError:\n",
        "            print(\"Input tidak valid. Masukkan nomor buku yang valid.\")\n",
        "\n",
        "    def kembalikan_buku(self, daftar_buku_admin):\n",
        "        if not self.daftar_buku_dipinjam:\n",
        "            print(\"Anda belum meminjam buku apapun.\")\n",
        "            return\n",
        "\n",
        "        print(\"\\nDaftar Buku yang Anda Pinjam:\")\n",
        "        for idx, buku in enumerate(self.daftar_buku_dipinjam):\n",
        "            print(f\"{idx + 1}. Judul: {buku['judul']}\")\n",
        "\n",
        "        try:\n",
        "            pilihan_buku = int(input(\"Pilih buku yang ingin Anda kembalikan (nomor): \")) - 1\n",
        "\n",
        "            if 0 <= pilihan_buku < len(self.daftar_buku_dipinjam):\n",
        "                buku_dikembalikan = self.daftar_buku_dipinjam.pop(pilihan_buku)\n",
        "                daftar_buku_admin.append(buku_dikembalikan)\n",
        "                print(f\"Anda telah mengembalikan buku '{buku_dikembalikan['judul']}'\")\n",
        "            else:\n",
        "                print(\"Nomor buku tidak valid.\")\n",
        "        except ValueError:\n",
        "            print(\"Input tidak valid. Masukkan nomor buku yang valid.\")\n",
        "\n",
        "\n",
        "if __name__ == \"__main__\":\n",
        "    user = User()\n",
        "    while True:\n",
        "        print(\"\\nMenu User:\")\n",
        "        print(\"1. Pinjam Buku\")\n",
        "        print(\"2. Kembalikan Buku\")\n",
        "        print(\"3. Keluar\")\n",
        "        pilihan = input(\"Pilih menu: \")\n",
        "\n",
        "        if pilihan == \"1\":\n",
        "            user.pinjam_buku(daftar_buku_admin)\n",
        "        elif pilihan == \"2\":\n",
        "            user.kembalikan_buku(daftar_buku_admin)\n",
        "        elif pilihan == \"3\":\n",
        "            print(\"Terima kasih, user!\")\n",
        "            break\n",
        "        else:\n",
        "            print(\"Pilihan tidak valid.\")\n"
      ],
      "metadata": {
        "id": "s1hdIs_TnWBL"
      },
      "execution_count": null,
      "outputs": []
    }
  ]
}