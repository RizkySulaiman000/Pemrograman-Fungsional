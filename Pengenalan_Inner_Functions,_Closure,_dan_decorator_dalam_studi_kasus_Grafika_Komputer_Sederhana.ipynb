{
  "nbformat": 4,
  "nbformat_minor": 0,
  "metadata": {
    "colab": {
      "provenance": []
    },
    "kernelspec": {
      "name": "python3",
      "display_name": "Python 3"
    },
    "language_info": {
      "name": "python"
    }
  },
  "cells": [
    {
      "cell_type": "markdown",
      "source": [
        "MODUL 4 – Pengenalan Inner Functions, Closure, dan decorator dalam\n",
        "studi kasus Grafika Komputer Sederhana"
      ],
      "metadata": {
        "id": "frNuEXmVuOCg"
      }
    },
    {
      "cell_type": "markdown",
      "source": [
        "KEGIATAN PERCOBAAN 1 (penerapan closure dengan currying):"
      ],
      "metadata": {
        "id": "aCpu_dW1exG3"
      }
    },
    {
      "cell_type": "code",
      "execution_count": null,
      "metadata": {
        "colab": {
          "base_uri": "https://localhost:8080/"
        },
        "id": "mQ-yEb4Vd6Rw",
        "outputId": "e3e6f8d8-d171-4894-8e15-f2433a03c29b"
      },
      "outputs": [
        {
          "output_type": "stream",
          "name": "stdout",
          "text": [
            "HOF: 12\n",
            "Currying: 15\n"
          ]
        }
      ],
      "source": [
        "# Currying function\n",
        "def perkalian(a):\n",
        "    def dengan(b):\n",
        "        return a * b #inner nya\n",
        "    return dengan  # Mengembalikan fungsi inner operator nya\n",
        "\n",
        "# Higher Order Function (HOF)\n",
        "def panggil_dengan_hof(a, b):\n",
        "    return perkalian(a)(b)\n",
        "\n",
        "# Currying\n",
        "panggil_dengan_currying = perkalian(5)  #perkalian dengan 5\n",
        "\n",
        "# Pemanggilan dengan HOF\n",
        "hasil_hof = panggil_dengan_hof(3, 4)\n",
        "print(\"HOF:\", hasil_hof)\n",
        "\n",
        "# Pemanggilan dengan Currying\n",
        "hasil_currying = panggil_dengan_currying(3)\n",
        "print(\"Currying:\", hasil_currying)\n"
      ]
    },
    {
      "cell_type": "markdown",
      "source": [
        "KEGIATAN PERCOBAAN 2 (penerapan single decorators to single function):\n"
      ],
      "metadata": {
        "id": "1uQT45KCe7lu"
      }
    },
    {
      "cell_type": "code",
      "source": [
        "def uppercase_decorator(function):\n",
        "    def wrapper():\n",
        "        func_result = function()\n",
        "        return func_result.upper()\n",
        "    return wrapper\n",
        "\n",
        "@uppercase_decorator\n",
        "def say_hi():\n",
        "    return 'hello there'\n",
        "\n",
        "result = say_hi()\n",
        "print(result)\n"
      ],
      "metadata": {
        "colab": {
          "base_uri": "https://localhost:8080/"
        },
        "id": "8T3DhTNogA2o",
        "outputId": "9ca1471a-58e4-4374-bb97-51f95e47bec8"
      },
      "execution_count": null,
      "outputs": [
        {
          "output_type": "stream",
          "name": "stdout",
          "text": [
            "HELLO THERE\n"
          ]
        }
      ]
    },
    {
      "cell_type": "markdown",
      "source": [
        "KEGIATAN PERCOBAAN 3 (penerapan multiple decorators to single function):"
      ],
      "metadata": {
        "id": "BRgqHZbVhLvm"
      }
    },
    {
      "cell_type": "code",
      "source": [
        "def title_decorator(function):\n",
        "    def wrapper():\n",
        "        func_result = function()\n",
        "        make_title = func_result.title() #decorator huruf besar di awal\n",
        "        print(make_title + \" -Data is convert to title case\")\n",
        "        return make_title\n",
        "    return wrapper\n",
        "\n",
        "def split_string(function):\n",
        "    def wrapper():\n",
        "        func_result = function()\n",
        "        splitted_string = func_result.split() #beda beda kan string nya\n",
        "        print(str(splitted_string) + \" - Then Data is splitted\")\n",
        "        return splitted_string\n",
        "    return wrapper\n",
        "\n",
        "@split_string\n",
        "@title_decorator\n",
        "def say_hi():\n",
        "    return 'hello there'\n",
        "\n",
        "result = say_hi()\n",
        "print (result)\n",
        "\n"
      ],
      "metadata": {
        "colab": {
          "base_uri": "https://localhost:8080/"
        },
        "id": "1KfMqf4wg9V2",
        "outputId": "90f258db-a5ce-440b-8d9b-7e870235820b"
      },
      "execution_count": null,
      "outputs": [
        {
          "output_type": "stream",
          "name": "stdout",
          "text": [
            "Hello There -Data is convert to title case\n",
            "['Hello', 'There'] - Then Data is splitted\n",
            "['Hello', 'There']\n"
          ]
        }
      ]
    },
    {
      "cell_type": "markdown",
      "source": [
        "KEGIATAN PERCOBAAN 4 (transformasi)"
      ],
      "metadata": {
        "id": "uQUSudZghNo3"
      }
    },
    {
      "cell_type": "code",
      "source": [
        "import math\n",
        "\n",
        "# titik awal\n",
        "P = (3, 5)\n",
        "\n",
        "# fungsi translasi\n",
        "def translasi(tx, ty):\n",
        "    def transformasi(P):\n",
        "        return (P[0] + tx, P[1] + ty)\n",
        "    return transformasi\n",
        "\n",
        "# fungsi dilatasi\n",
        "def dilatasi(sx, sy):\n",
        "    def transformasi(P):\n",
        "        return (P[0] * sx, P[1] * sy)\n",
        "    return transformasi\n",
        "\n",
        "# fungsi rotasi\n",
        "def rotasi(sudut):\n",
        "    sudut_radian = math.radians(sudut)\n",
        "    def transformasi(P):\n",
        "        return (P[0]*math.cos(sudut_radian) - P[1]*math.sin(sudut_radian), P[0]*math.sin(sudut_radian) + P[1]*math.cos(sudut_radian))\n",
        "    return transformasi\n",
        "\n",
        "# melakukan transformasi\n",
        "P_translasi = translasi(2, -1)(P)\n",
        "P_dilatasi = dilatasi(2, -1)(P)\n",
        "P_rotasi = rotasi(30)(P)\n",
        "\n",
        "print(\"Koordinat setelah translasi:\", P_translasi)\n",
        "print(\"Koordinat setelah dilatasi:\", P_dilatasi)\n",
        "print(\"Koordinat setelah rotasi:\", P_rotasi)"
      ],
      "metadata": {
        "colab": {
          "base_uri": "https://localhost:8080/"
        },
        "id": "VrpJ1IgjhNSX",
        "outputId": "c33de628-c2e5-4774-afd4-56be291c639d"
      },
      "execution_count": null,
      "outputs": [
        {
          "output_type": "stream",
          "name": "stdout",
          "text": [
            "Koordinat setelah translasi: (5, 4)\n",
            "Koordinat setelah dilatasi: (6, -5)\n",
            "Koordinat setelah rotasi: (0.09807621135331646, 5.830127018922194)\n"
          ]
        }
      ]
    },
    {
      "cell_type": "markdown",
      "source": [
        "KEGIATAN PERCOBAAN 5 (mencari persamaan garis melalui 2 titik)"
      ],
      "metadata": {
        "id": "qITCZjSFhSN2"
      }
    },
    {
      "cell_type": "code",
      "source": [
        "def point(x, y):\n",
        "    return x, y\n",
        "\n",
        "def line_equation_of(p1, p2):\n",
        "    def calculate_slope():\n",
        "        x1, y1 = p1\n",
        "        x2, y2 = p2\n",
        "        return (y2 - y1) / (x2 - x1)\n",
        "\n",
        "    M = calculate_slope()\n",
        "    C = p1[1] - M * p1[0]\n",
        "\n",
        "    return f\"y = {M:.2f}x + {C:.2f}\"\n",
        "\n",
        "# Contoh penggunaan\n",
        "print(\"Persamaan garis yang melalui titik A dan B:\")\n",
        "print(line_equation_of(point(1,-2), point(5, -7)))"
      ],
      "metadata": {
        "colab": {
          "base_uri": "https://localhost:8080/"
        },
        "id": "tin2S6ZyhSp_",
        "outputId": "7b9a664a-f570-4b84-ac54-7db24f29b21f"
      },
      "execution_count": null,
      "outputs": [
        {
          "output_type": "stream",
          "name": "stdout",
          "text": [
            "Persamaan garis yang melalui titik A dan B:\n",
            "y = -1.25x + -0.75\n"
          ]
        }
      ]
    },
    {
      "cell_type": "markdown",
      "source": [
        "KEGIATAN PERCOBAAN 6 (mencari persamaan garis melalui 1 titik)\n"
      ],
      "metadata": {
        "id": "eB6S9ngohXCI"
      }
    },
    {
      "cell_type": "code",
      "source": [
        "def point(x, y):\n",
        "    return x, y\n",
        "\n",
        "def line_equation_of(p1, M):\n",
        "    def calculate_constant():\n",
        "        x1, y1 = p1\n",
        "        return y1 - M * x1\n",
        "\n",
        "    C = calculate_constant()\n",
        "    return f\"y = {M:.2f}x + {C:.2f}\"\n",
        "\n",
        "#NIM Ganjil dan 3 NIM akhir\n",
        "print(\"Persamaan garis yang melalui titik (2,5) dan bergradien 7:\")\n",
        "print(line_equation_of(point(2, 5), 7))\n"
      ],
      "metadata": {
        "colab": {
          "base_uri": "https://localhost:8080/"
        },
        "id": "zzySyH04hW0f",
        "outputId": "30e114fc-65c9-4789-9c36-ac4dfe4e5925"
      },
      "execution_count": null,
      "outputs": [
        {
          "output_type": "stream",
          "name": "stdout",
          "text": [
            "Persamaan garis yang melalui titik (2,5) dan bergradien 7:\n",
            "y = 7.00x + -9.00\n"
          ]
        }
      ]
    },
    {
      "cell_type": "code",
      "source": [
        "import math #mtk standart di python\n",
        "\n",
        "#buat dan kembali\n",
        "def point(x, y):\n",
        "    return x, y\n",
        "\n",
        "# Fungsi translasi\n",
        "def translasi(tx, ty):\n",
        "    def transformasi(P):\n",
        "        return (P[0] + tx, P[1] + ty)\n",
        "    return transformasi\n",
        "\n",
        "# Fungsi rotasi\n",
        "def rotasi(sudut):\n",
        "    sudut_radian = math.radians(sudut)\n",
        "    def transformasi(P):\n",
        "        return (P[0] * math.cos(sudut_radian) - P[1] * math.sin(sudut_radian), P[0] * math.sin(sudut_radian) + P[1] * math.cos(sudut_radian))#rumus rotasi\n",
        "    return transformasi\n",
        "\n",
        "# Fungsi dilatasi\n",
        "def dilatasi(sx, sy):\n",
        "    def transformasi(P):\n",
        "        return (P[0] * sx, P[1] * sy)\n",
        "    return transformasi\n",
        "\n",
        "def line_equation(p1, M):\n",
        "    def calculate():\n",
        "        x1, y1 = p1\n",
        "        return y1 - M * x1\n",
        "\n",
        "    C = calculate()\n",
        "    return f\"y = {M:.2f}x + {C:.2f}\"\n",
        "\n",
        "# input user\n",
        "x_awal = float(input(\"Masukkan nilai x untuk titik awal: \"))\n",
        "y_awal = float(input(\"Masukkan nilai y untuk titik awal: \"))\n",
        "gradien_A = float(input(\"Masukkan nilai gradien untuk titik A: \"))\n",
        "\n",
        "# Titik awal\n",
        "A = point(x_awal, y_awal)\n",
        "\n",
        "A_translasi = translasi(2, -3)(A)\n",
        "A_rotasi = rotasi(60)(A_translasi)\n",
        "A_dilatasi = dilatasi(1.5, 2)(A_rotasi)\n",
        "\n",
        "# Persamaan garis sebelum transformasi\n",
        "persamaan_sebelum = line_equation(A, gradien_A)\n",
        "\n",
        "# Persamaan garis setelah transformasi\n",
        "persamaan_setelah = line_equation(A_dilatasi, gradien_A)\n",
        "\n",
        "# Output\n",
        "print(\"Persamaan garis sebelum transformasi:\")\n",
        "print(persamaan_sebelum)\n",
        "print(\"\\nPersamaan garis setelah transformasi:\")\n",
        "print(persamaan_setelah)\n"
      ],
      "metadata": {
        "colab": {
          "base_uri": "https://localhost:8080/"
        },
        "id": "o1YAYq2wuRn-",
        "outputId": "e4292db1-73ae-4a0f-d310-2c29884dc1c0"
      },
      "execution_count": 1,
      "outputs": [
        {
          "output_type": "stream",
          "name": "stdout",
          "text": [
            "Masukkan nilai x untuk titik awal: 2\n",
            "Masukkan nilai y untuk titik awal: 3\n",
            "Masukkan nilai gradien untuk titik A: 7\n",
            "Persamaan garis sebelum transformasi:\n",
            "y = 7.00x + -11.00\n",
            "\n",
            "Persamaan garis setelah transformasi:\n",
            "y = 7.00x + -14.07\n"
          ]
        }
      ]
    }
  ]
}